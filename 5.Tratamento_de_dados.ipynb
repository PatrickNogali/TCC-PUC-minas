{
 "cells": [
  {
   "cell_type": "code",
   "execution_count": null,
   "id": "piano-command",
   "metadata": {},
   "outputs": [],
   "source": [
    "import pandas as pd\n",
    "import numpy as np\n",
    "import os\n",
    "from pprint import pprint"
   ]
  },
  {
   "cell_type": "code",
   "execution_count": null,
   "metadata": {},
   "outputs": [],
   "source": [
    "os.chdir('d:\\\\Users\\\\Patri\\\\Documents\\\\1.TCC\\\\Notebooks\\\\WebScrapAcordaosPDF\\\\NLTK')"
   ]
  },
  {
   "cell_type": "code",
   "execution_count": null,
   "metadata": {},
   "outputs": [],
   "source": [
    "%%time\n",
    "df = pd.read_csv('Acordaos2020.csv')"
   ]
  },
  {
   "cell_type": "code",
   "execution_count": null,
   "id": "round-throw",
   "metadata": {},
   "outputs": [],
   "source": [
    "df.head()"
   ]
  },
  {
   "cell_type": "code",
   "execution_count": null,
   "metadata": {},
   "outputs": [],
   "source": [
    "df = df.drop(columns='Unnamed: 0')"
   ]
  },
  {
   "cell_type": "code",
   "execution_count": null,
   "metadata": {},
   "outputs": [],
   "source": [
    "df.info()"
   ]
  },
  {
   "cell_type": "code",
   "execution_count": null,
   "metadata": {},
   "outputs": [],
   "source": [
    "df.isnull().sum()"
   ]
  },
  {
   "cell_type": "code",
   "execution_count": null,
   "metadata": {},
   "outputs": [],
   "source": [
    "# Tratamento dos dados\n",
    "\n",
    "# # Remove colunas desnecessárias para a presente análise.\n",
    "# # EDIT: Colunas já foram removidas na extração do XML\n",
    "\n",
    "# # Todas as linhas da coluna 'CPF Relator' estão vazias.\n",
    "# df = df.drop(columns=['CPFRelator']) # vazio\n",
    "\n",
    "# # Todas as linhas da coluna 'VersaoPGD' estão preenchidas com '4.0.0'.\n",
    "# df = df.drop(columns=['VersaoPGD']) # 4.0.0\n",
    "\n",
    "# # Todas as linhas da coluna 'TipoDocumento' estão preenchidas com 'Acórdão'.\n",
    "# df = df.drop(columns=['TipoDocumento']) # Acórdão\n",
    "\n",
    "# # Todas as linhas da coluna 'Orgao' estão preenchidas com 'CARF'.\n",
    "# df = df.drop(columns=['Orgao']) # CARF\n",
    "\n",
    "# Conversão das colunas de texto em string, elimina valores nulos\n",
    "colunas = ('NomeRelator', 'Ementa', 'Acordao', 'Relatorio', 'Voto', 'VotoVencedor', 'DeclaracaoVoto')\n",
    "for coluna in colunas: df[coluna] = df[coluna].astype('str')\n",
    "\n",
    "# Substitui por '' as células vazias, já que são de textos opcionais, exceto 'NomeRelator', que pode ser obtido da coluna 'Voto'\n",
    "df = df.fillna('')\n",
    "df = df.replace(np.nan,'')\n",
    "\n",
    "# Converte a coluna 'Data' para o formato datetime\n",
    "df['Data'] = pd.to_datetime(df['Data'])\n",
    "\n",
    "# Remove acórdãos de sessões realizadas em anos anteriores, em que as súmulas mais recente não estavam em vigor\n",
    "df = df[~(df['Data'] < '2020-01-01')]"
   ]
  },
  {
   "cell_type": "code",
   "execution_count": null,
   "metadata": {},
   "outputs": [],
   "source": [
    "df.isnull().sum()"
   ]
  },
  {
   "cell_type": "code",
   "execution_count": null,
   "metadata": {},
   "outputs": [],
   "source": [
    "df = df.reset_index(drop = True)"
   ]
  },
  {
   "cell_type": "code",
   "execution_count": null,
   "metadata": {},
   "outputs": [],
   "source": [
    "df.info()"
   ]
  },
  {
   "cell_type": "code",
   "execution_count": null,
   "metadata": {},
   "outputs": [],
   "source": [
    "%%time\n",
    "df.to_csv('Acordaos2020tratado.csv', index=False)"
   ]
  },
  {
   "cell_type": "code",
   "execution_count": null,
   "metadata": {},
   "outputs": [],
   "source": []
  }
 ],
 "metadata": {
  "kernelspec": {
   "name": "python392jvsc74a57bd03ea523bc2d4f869847872ce3cd57df8231ee0b54777ea6b7d40abc7c29d8b996",
   "display_name": "Python 3.9.2 64-bit"
  },
  "language_info": {
   "codemirror_mode": {
    "name": "ipython",
    "version": 3
   },
   "file_extension": ".py",
   "mimetype": "text/x-python",
   "name": "python",
   "nbconvert_exporter": "python",
   "pygments_lexer": "ipython3",
   "version": "3.9.2"
  }
 },
 "nbformat": 4,
 "nbformat_minor": 5
}