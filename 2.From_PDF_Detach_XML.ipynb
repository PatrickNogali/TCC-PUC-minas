{
 "cells": [
  {
   "cell_type": "code",
   "execution_count": null,
   "id": "optimum-renewal",
   "metadata": {},
   "outputs": [],
   "source": [
    "# instalar dependências\n",
    "# !pip install subprocess\n",
    "# pdfdetach.exe deve estar na pasta do Jupyter Notebook"
   ]
  },
  {
   "cell_type": "code",
   "execution_count": null,
   "id": "color-perth",
   "metadata": {
    "scrolled": true
   },
   "outputs": [],
   "source": [
    "import os\n",
    "from subprocess import call"
   ]
  },
  {
   "cell_type": "code",
   "execution_count": null,
   "metadata": {},
   "outputs": [],
   "source": [
    "os.chdir('d:\\\\Users\\\\Patri\\\\Documents\\\\1.TCC\\\\Notebooks\\\\WebScrapAcordaosPDF')"
   ]
  },
  {
   "cell_type": "code",
   "execution_count": null,
   "metadata": {},
   "outputs": [],
   "source": [
    "pasta = os.listdir()\n",
    "for count, arquivo in enumerate(pasta) : print (count, arquivo)"
   ]
  },
  {
   "cell_type": "code",
   "execution_count": null,
   "metadata": {},
   "outputs": [],
   "source": [
    "# pasta_qual = input ('Qual o número da pasta que deseja usar: ')\n",
    "# os.chdir(pasta[int(pasta_qual)])\n",
    "# os.getcwd()"
   ]
  },
  {
   "cell_type": "code",
   "execution_count": null,
   "metadata": {},
   "outputs": [],
   "source": [
    "os.listdir()"
   ]
  },
  {
   "cell_type": "code",
   "execution_count": null,
   "id": "taken-healthcare",
   "metadata": {},
   "outputs": [],
   "source": [
    "lista = [f for f in os.listdir('.') if os.path.isfile(f)]\n",
    "len(lista)"
   ]
  },
  {
   "cell_type": "code",
   "execution_count": null,
   "id": "grand-mapping",
   "metadata": {
    "scrolled": true,
    "tags": []
   },
   "outputs": [],
   "source": [
    "# Extrair o arquivo XML de cada PDF usando pdfdetach\n",
    "from datetime import datetime\n",
    "if not 'XML' in os.listdir(): os.mkdir(\"XML\")\n",
    "\n",
    "inicio = datetime.now()\n",
    "hora_inicio = inicio.strftime(\"%H:%M:%S\")\n",
    "inicio_string = inicio.strftime(\"%Y%m%B\")\n",
    "\n",
    "for count, arquivo in enumerate(lista):\n",
    "    arquivo_nome_ext=lista[count]\n",
    "    arquivo_nome=arquivo_nome_ext[:-4]\n",
    "    arquivo_nome_xml=arquivo_nome+\".xml\"\n",
    "    call([\"pdfdetach\", \"-saveall\", arquivo_nome_ext])\n",
    "    if \"documento.xml\" in os.listdir() : os.rename(\"documento.xml\", os.getcwd()+\"\\\\XML\\\\\"+arquivo_nome_xml)\n",
    "    decorrido = datetime.now() - inicio\n",
    "    expectativa = decorrido / (count+1) * len(lista)\n",
    "    if decorrido > expectativa: \n",
    "        restante = 0 \n",
    "    else: \n",
    "        restante = expectativa - decorrido\n",
    "    print (count, str(decorrido)[:-7], str(expectativa)[:-7], str(restante)[:-7], arquivo_nome_xml)"
   ]
  },
  {
   "cell_type": "code",
   "execution_count": null,
   "id": "increasing-death",
   "metadata": {},
   "outputs": [],
   "source": [
    "len(lista)"
   ]
  },
  {
   "cell_type": "code",
   "execution_count": null,
   "id": "armed-sphere",
   "metadata": {},
   "outputs": [],
   "source": [
    "len(os.listdir())"
   ]
  },
  {
   "cell_type": "code",
   "execution_count": null,
   "id": "collaborative-guatemala",
   "metadata": {},
   "outputs": [],
   "source": [
    "os.getcwd()"
   ]
  },
  {
   "cell_type": "code",
   "execution_count": null,
   "metadata": {},
   "outputs": [],
   "source": []
  }
 ],
 "metadata": {
  "kernelspec": {
   "name": "python392jvsc74a57bd03ea523bc2d4f869847872ce3cd57df8231ee0b54777ea6b7d40abc7c29d8b996",
   "display_name": "Python 3.9.2 64-bit"
  },
  "language_info": {
   "codemirror_mode": {
    "name": "ipython",
    "version": 3
   },
   "file_extension": ".py",
   "mimetype": "text/x-python",
   "name": "python",
   "nbconvert_exporter": "python",
   "pygments_lexer": "ipython3",
   "version": "3.9.2"
  }
 },
 "nbformat": 4,
 "nbformat_minor": 5
}