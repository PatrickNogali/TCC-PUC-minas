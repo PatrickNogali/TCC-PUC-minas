{
 "cells": [
  {
   "cell_type": "code",
   "execution_count": null,
   "id": "piano-command",
   "metadata": {},
   "outputs": [],
   "source": [
    "import pandas as pd\n",
    "import numpy as np\n",
    "import os\n",
    "from collections import Counter\n",
    "from pprint import pprint\n",
    "from datetime import datetime\n",
    "from IPython.display import display\n",
    "from IPython.core.interactiveshell import InteractiveShell\n",
    "InteractiveShell.ast_node_interactivity = \"all\""
   ]
  },
  {
   "cell_type": "code",
   "execution_count": null,
   "metadata": {},
   "outputs": [],
   "source": [
    "os.chdir('d:\\\\Users\\\\Patri\\\\Documents\\\\1.TCC\\\\Notebooks\\\\WebScrapAcordaosPDF\\\\NLTK')"
   ]
  },
  {
   "cell_type": "code",
   "execution_count": null,
   "metadata": {},
   "outputs": [],
   "source": [
    "%%time\n",
    "df = pd.read_csv('Acordaos2020sumulado.csv')"
   ]
  },
  {
   "cell_type": "code",
   "execution_count": null,
   "id": "round-throw",
   "metadata": {},
   "outputs": [],
   "source": [
    "df.head()"
   ]
  },
  {
   "cell_type": "code",
   "execution_count": null,
   "metadata": {},
   "outputs": [],
   "source": [
    "df.isnull().sum()"
   ]
  },
  {
   "cell_type": "code",
   "execution_count": null,
   "metadata": {},
   "outputs": [],
   "source": [
    "# Remover as colunas de textos que não serão utilizadas para a predição\n",
    "colunas = ['Ementa', 'Acordao', 'Voto', 'VotoVencedor', 'DeclaracaoVoto']\n",
    "t_colunas = list('t_' + coluna for coluna in colunas)\n",
    "remover_colunas = colunas + t_colunas\n",
    "remover_colunas\n",
    "\n",
    "for coluna in remover_colunas:\n",
    "    df = df.drop(columns=coluna)\n",
    "\n",
    "df"
   ]
  },
  {
   "cell_type": "code",
   "execution_count": null,
   "metadata": {},
   "outputs": [],
   "source": [
    "# Remover as colunas de textos que não serão utilizadas para a predição\n",
    "remover_colunas = ['Processo', 'TipoRecurso', 'Turma', 'Data', 'Recorrente', 'Recorrida', 'NomeRelator', 't_Relatorio']\n",
    "\n",
    "for coluna in remover_colunas:\n",
    "    df = df.drop(columns=coluna)\n",
    "\n",
    "df"
   ]
  },
  {
   "cell_type": "code",
   "execution_count": null,
   "metadata": {},
   "outputs": [],
   "source": [
    "# Conversão das colunas de texto em string, elimina valores nulos\n",
    "coluna = ('Relatorio')\n",
    "df[coluna] = df[coluna].astype('str')\n",
    "\n",
    "df = df.fillna('')\n",
    "df = df.replace(np.nan,'')"
   ]
  },
  {
   "cell_type": "code",
   "execution_count": null,
   "metadata": {},
   "outputs": [],
   "source": [
    "df.info()"
   ]
  },
  {
   "cell_type": "code",
   "execution_count": null,
   "metadata": {
    "tags": []
   },
   "outputs": [],
   "source": [
    "# Totalizar as súmulas aplicadas por coluna\n",
    "colunas=['Voto', 'Ementa', 'Relatorio', 'Acordao', 'VotoVencedor', 'DeclaracaoVoto']\n",
    "\n",
    "sum_total = []\n",
    "for count, coluna in enumerate(colunas): \n",
    "    sum_coluna = []\n",
    "    for index, values in df['s_'+coluna].items():\n",
    "        if values: \n",
    "            lista = values.strip('][').split(', ')\n",
    "            for sumula in lista:\n",
    "                 if len(sumula):\n",
    "                    sum_coluna.append(int(sumula))\n",
    "                    sum_total.append(int(sumula))\n",
    "        sum_coluna = sorted(list(set(sum_coluna)))    \n",
    "    print (\"Coluna:\", coluna, len(sum_coluna), sum_coluna)\n",
    "sum_total = sorted(list(set(sum_total)))\n",
    "print (\"Total:\", len(sum_total), sum_total)\n"
   ]
  },
  {
   "cell_type": "code",
   "execution_count": null,
   "metadata": {},
   "outputs": [],
   "source": [
    "# Criar as colunas booleanas para cada sumula(161) e coluna(6):\n",
    "colunas=['Voto', 'Ementa', 'Relatorio', 'Acordao', 'VotoVencedor', 'DeclaracaoVoto']\n",
    "s_colunas=['s_Voto', 's_Ementa', 's_Relatorio', 's_Acordao', 's_VotoVencedor', 's_DeclaracaoVoto']\n",
    "z_colunas=['VO', 'EM', 'RE', 'AC', 'VV', 'DE']\n",
    "# Formato de nome das colunas: S001AC ('S' + numero da sumula em 3 digitos + 2 digitos da coluna)\n",
    "# Criar todas as colunas com valores False\n",
    "\n",
    "# loop por coluna\n",
    "for count, coluna in enumerate(colunas): \n",
    "    print (\"Coluna:\", coluna, count, s_colunas[count], z_colunas[count])\n",
    "\n",
    "    # criar colunas para as booleanas das sumulas\n",
    "    for sumula in range (1,162):\n",
    "        df['S'+str(sumula).zfill(3)+z_colunas[count]] = 0"
   ]
  },
  {
   "cell_type": "code",
   "execution_count": null,
   "metadata": {
    "tags": [
     "outputPrepend"
    ]
   },
   "outputs": [],
   "source": [
    "%%time\n",
    "\n",
    "# Pega lista de número das súmulas de cada célula e liga (1) a coluna t_seção correspondente\n",
    "colunas=['Voto', 'Ementa', 'Relatorio', 'Acordao', 'VotoVencedor', 'DeclaracaoVoto']\n",
    "s_colunas=['s_Voto', 's_Ementa', 's_Relatorio', 's_Acordao', 's_VotoVencedor', 's_DeclaracaoVoto']\n",
    "z_colunas=['VO', 'EM', 'RE', 'AC', 'VV', 'DE']\n",
    "# s_colunas = []\n",
    "# for coluna in colunas: s_colunas.append('s_'+coluna)\n",
    "\n",
    "# Identifica as súmulas aplicáveis na colunas de seção do acórdão e seta como '1' a respectiva coluna booleana\n",
    "# Aplicada em uma s_coluna (coluna com lista de súmulas aplicáveis)\n",
    "# Busca localizar uma sumula específica\n",
    "\n",
    "# loop por coluna de seção\n",
    "for count, coluna in enumerate(colunas): \n",
    "    s_coluna = 's_' + coluna    \n",
    "\n",
    "    # loop por linha (célula a céula)\n",
    "    lista_sumulas = df[s_coluna].items() #retorna uma tupla dupla (index, list)\n",
    "    for index, value in lista_sumulas:\n",
    "        if len(value):         \n",
    "            lista_sumula = value.strip('][').split(', ')\n",
    "            # pega cada número encontrado e liga (1) a coluna respectiva\n",
    "            for numero_sumula in lista_sumula:\n",
    "                 if len(numero_sumula):\n",
    "                    col_bool = 'S' + str(numero_sumula).zfill(3) + z_colunas[count]\n",
    "                    print (coluna, index, col_bool, lista_sumula, numero_sumula)\n",
    "                    df.at[index, col_bool] = 1"
   ]
  },
  {
   "cell_type": "code",
   "execution_count": null,
   "metadata": {},
   "outputs": [],
   "source": [
    "df"
   ]
  },
  {
   "cell_type": "code",
   "execution_count": null,
   "metadata": {},
   "outputs": [],
   "source": [
    "%%time\n",
    "df.to_csv('Acordaos2020booleado.csv', index = False)"
   ]
  },
  {
   "cell_type": "code",
   "execution_count": null,
   "metadata": {},
   "outputs": [],
   "source": []
  }
 ],
 "metadata": {
  "kernelspec": {
   "name": "python392jvsc74a57bd03ea523bc2d4f869847872ce3cd57df8231ee0b54777ea6b7d40abc7c29d8b996",
   "display_name": "Python 3.9.2 64-bit"
  },
  "language_info": {
   "codemirror_mode": {
    "name": "ipython",
    "version": 3
   },
   "file_extension": ".py",
   "mimetype": "text/x-python",
   "name": "python",
   "nbconvert_exporter": "python",
   "pygments_lexer": "ipython3",
   "version": "3.9.2"
  }
 },
 "nbformat": 4,
 "nbformat_minor": 5
}