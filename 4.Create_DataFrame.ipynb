{
 "cells": [
  {
   "cell_type": "code",
   "execution_count": null,
   "id": "piano-command",
   "metadata": {},
   "outputs": [],
   "source": [
    "import xml.etree.ElementTree as et\n",
    "import pandas as pd\n",
    "import numpy as np\n",
    "import os\n",
    "import re\n",
    "from pprint import pprint\n",
    "from datetime import datetime\n",
    "import nltk\n",
    "from nltk.corpus import PlaintextCorpusReader\n",
    "import nltk.data\n",
    "# nltk.download()"
   ]
  },
  {
   "cell_type": "code",
   "execution_count": null,
   "metadata": {},
   "outputs": [],
   "source": [
    "# os.chdir('d:\\\\Users\\\\Patri\\\\Documents\\\\1.TCC\\\\Notebooks\\\\WebScrapAcordaosPDF')"
   ]
  },
  {
   "cell_type": "code",
   "execution_count": null,
   "metadata": {
    "tags": []
   },
   "outputs": [],
   "source": [
    "pasta = os.listdir()\n",
    "for count, arquivo in enumerate(pasta) : print (count, arquivo)"
   ]
  },
  {
   "cell_type": "code",
   "execution_count": null,
   "metadata": {},
   "outputs": [],
   "source": [
    "os.getcwd()"
   ]
  },
  {
   "cell_type": "code",
   "execution_count": null,
   "id": "sharp-montreal",
   "metadata": {
    "scrolled": true,
    "tags": []
   },
   "outputs": [],
   "source": [
    "# Extrai informações dos arquivos XML para Pandas Database - versão PGD 4.0.0\n",
    "datatable = []\n",
    "\n",
    "import os\n",
    "from datetime import datetime\n",
    "\n",
    "inicio = datetime.now()\n",
    "\n",
    "files = [f for f in os.listdir('.') if os.path.isfile(f)]\n",
    "for count, arquivo in enumerate(files):\n",
    "    xml_data = open(arquivo, 'r').read()  # Read file\n",
    "    root = et.XML(xml_data)  # Parse XML    \n",
    "    if root.find('TipoDocumento').text != \"Resolução\":\n",
    "        if root.find('VersaoPGD').text == \"4.0.0\":    \n",
    "            cols = []\n",
    "            data = []\n",
    "\n",
    "            for i in (0,1,2,4,5,6,7,9):\n",
    "                cols.append(root[i].tag)\n",
    "                data.append(root[i].text)\n",
    "\n",
    "            ementa = \"\"\n",
    "            ementas = root.findall('Ementa')\n",
    "            \n",
    "            for linha in ementas:\n",
    "                for q in range(len(linha)):\n",
    "                    ementa += str(linha[q].text)\n",
    "\n",
    "            cols.append('Ementa')\n",
    "            data.append(ementa)\n",
    "\n",
    "            acordao = \"\"\n",
    "            acordaos = root.findall('Acordao')\n",
    "\n",
    "            for linha in acordaos:\n",
    "                for q in range(len(linha)):\n",
    "                    acordao += str(linha[q].text)\n",
    "\n",
    "            cols.append('Acordao')\n",
    "            data.append(acordao)            \n",
    "\n",
    "            relatorio = root.findall('Relatorio')\n",
    "            cols.append('Relatorio')\n",
    "            data.append(relatorio[0].text)\n",
    "            \n",
    "            voto = root.findall('Voto')\n",
    "            cols.append('Voto')\n",
    "            data.append(voto[0].text)\n",
    "                        \n",
    "            votovencedor = root.findall('VotoVencedor')\n",
    "            cols.append('VotoVencedor')\n",
    "            data.append(votovencedor[0].text)\n",
    "                        \n",
    "            declaracaovoto = root.findall('DeclaracaoVoto')\n",
    "            cols.append('DeclaracaoVoto')\n",
    "            data.append(declaracaovoto[0].text)\n",
    "            \n",
    "            datatable.append(data)\n",
    "\n",
    "    decorrido = datetime.now() - inicio\n",
    "    expectativa = decorrido / (count+1) * len(files)\n",
    "    if decorrido > expectativa: \n",
    "        restante = 0 \n",
    "    else: \n",
    "        restante = expectativa - decorrido\n",
    "    print(count, str(decorrido)[:-7], str(expectativa)[:-7], str(restante)[:-7], arquivo, root.find('TipoDocumento').text, root.find('VersaoPGD').text)\n",
    "\n",
    "df = pd.DataFrame.from_records(datatable, columns=cols)"
   ]
  },
  {
   "cell_type": "code",
   "execution_count": null,
   "metadata": {
    "tags": []
   },
   "outputs": [],
   "source": [
    "# Extrai informações dos arquivos XML para Pandas Database - versão PGD 2.0.4 ou 2.0.1\n",
    "datatable = []\n",
    "\n",
    "import os\n",
    "from datetime import datetime\n",
    "\n",
    "inicio = datetime.now()\n",
    "\n",
    "files = [f for f in os.listdir('.') if os.path.isfile(f)]\n",
    "for count, arquivo in enumerate(files):\n",
    "    xml_data = open(arquivo, 'r').read()  # Read file\n",
    "    root = et.XML(xml_data)  # Parse XML    \n",
    "    if root.find('TipoDocumento').text != \"Resolução\":\n",
    "        if root.find('VersaoPGD').text == \"2.0.4\" or root.find('VersaoPGD').text == \"2.0.1\":    \n",
    "            cols = []\n",
    "            data = []\n",
    "\n",
    "            processo = root.findall('Processo')\n",
    "            cols.append('Processo')\n",
    "            data.append(processo[0].text)\n",
    "\n",
    "            decisao = root.findall('Decisao')\n",
    "            cols.append('Decisao')\n",
    "            data.append(decisao[0].text)\n",
    "\n",
    "            datas = root.findall('Data')\n",
    "            cols.append('Data')\n",
    "            data.append(datas[0].text)\n",
    "\n",
    "            ementa = \"\"\n",
    "            ementas = root.findall('Ementa')\n",
    "            \n",
    "            for linha in ementas:\n",
    "                for q in range(len(linha)):\n",
    "                    ementa += str(linha[q].text)\n",
    "\n",
    "            cols.append('Ementa')\n",
    "            data.append(ementa)\n",
    "\n",
    "            acordao = \"\"\n",
    "            acordaos = root.findall('Acordao')\n",
    "\n",
    "            for linha in acordaos:\n",
    "                for q in range(len(linha)):\n",
    "                    acordao += str(linha[q].text)\n",
    "\n",
    "            cols.append('Acordao')\n",
    "            data.append(acordao)            \n",
    "            \n",
    "            relatorio = root.findall('Relatorio')\n",
    "            cols.append('Relatorio')\n",
    "            data.append(relatorio[0].text)\n",
    "            \n",
    "            voto = root.findall('Voto')\n",
    "            cols.append('Voto')\n",
    "            data.append(voto[0].text)\n",
    "                        \n",
    "            votovencedor = root.findall('VotoVencedor')\n",
    "            cols.append('VotoVencedor')\n",
    "            data.append(votovencedor[0].text)\n",
    "                        \n",
    "            declaracaovoto = root.findall('DeclaracaoVoto')\n",
    "            cols.append('DeclaracaoVoto')\n",
    "            data.append(declaracaovoto[0].text)\n",
    "            \n",
    "            datatable.append(data)\n",
    "\n",
    "    decorrido = datetime.now() - inicio\n",
    "    expectativa = decorrido / (count+1) * len(files)\n",
    "    if decorrido > expectativa: \n",
    "        restante = 0 \n",
    "    else: \n",
    "        restante = expectativa - decorrido\n",
    "    print(count, str(decorrido)[:-7], str(expectativa)[:-7], str(restante)[:-7], arquivo, root.find('TipoDocumento').text, root.find('VersaoPGD').text)\n",
    "\n",
    "df = pd.DataFrame.from_records(datatable, columns=cols)"
   ]
  },
  {
   "cell_type": "code",
   "execution_count": null,
   "id": "round-throw",
   "metadata": {},
   "outputs": [],
   "source": [
    "df"
   ]
  },
  {
   "cell_type": "code",
   "execution_count": null,
   "metadata": {},
   "outputs": [],
   "source": [
    "os.chdir('d:\\\\Users\\\\Patri\\\\Documents\\\\1.TCC\\\\Notebooks\\\\WebScrapAcordaosPDF')"
   ]
  },
  {
   "cell_type": "code",
   "execution_count": null,
   "id": "federal-extreme",
   "metadata": {},
   "outputs": [],
   "source": [
    "pasta_qual='NLTK'"
   ]
  },
  {
   "cell_type": "code",
   "execution_count": null,
   "metadata": {},
   "outputs": [],
   "source": [
    "os.chdir(pasta_qual)"
   ]
  },
  {
   "cell_type": "code",
   "execution_count": null,
   "metadata": {},
   "outputs": [],
   "source": [
    "df.to_csv('Acordaosprecedentes400.csv', index=False)"
   ]
  },
  {
   "cell_type": "code",
   "execution_count": null,
   "metadata": {},
   "outputs": [],
   "source": [
    "os.listdir()"
   ]
  },
  {
   "cell_type": "code",
   "execution_count": null,
   "metadata": {},
   "outputs": [],
   "source": []
  }
 ],
 "metadata": {
  "kernelspec": {
   "name": "python392jvsc74a57bd03ea523bc2d4f869847872ce3cd57df8231ee0b54777ea6b7d40abc7c29d8b996",
   "display_name": "Python 3.9.2 64-bit"
  },
  "language_info": {
   "codemirror_mode": {
    "name": "ipython",
    "version": 3
   },
   "file_extension": ".py",
   "mimetype": "text/x-python",
   "name": "python",
   "nbconvert_exporter": "python",
   "pygments_lexer": "ipython3",
   "version": "3.9.2"
  }
 },
 "nbformat": 4,
 "nbformat_minor": 5
}