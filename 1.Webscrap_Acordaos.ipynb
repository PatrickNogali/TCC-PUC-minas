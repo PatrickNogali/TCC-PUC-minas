{
 "cells": [
  {
   "cell_type": "code",
   "execution_count": null,
   "metadata": {},
   "outputs": [],
   "source": [
    "from selenium import webdriver\n",
    "from selenium.webdriver.common.by import By\n",
    "from selenium.webdriver.support.ui import WebDriverWait\n",
    "from selenium.webdriver.support import expected_conditions as EC\n",
    "import re\n",
    "import time\n",
    "import math\n",
    "import pandas as pd\n",
    "import datetime\n",
    "import os"
   ]
  },
  {
   "cell_type": "code",
   "execution_count": null,
   "metadata": {},
   "outputs": [],
   "source": [
    "os.chdir('d:\\\\Users\\\\Patri\\\\Documents\\\\1.TCC\\\\Notebooks\\\\WebScrapAcordaosPDF')"
   ]
  },
  {
   "cell_type": "code",
   "execution_count": null,
   "metadata": {},
   "outputs": [],
   "source": [
    "mes = \"05\"\n",
    "mes_ano_inicial = mes + \"/2020\"\n",
    "mes_ano_final = mes + \"/2020\"\n",
    "mes_ano_inicial, mes_ano_final"
   ]
  },
  {
   "cell_type": "code",
   "execution_count": null,
   "metadata": {
    "scrolled": true
   },
   "outputs": [],
   "source": [
    "options = webdriver.ChromeOptions()\n",
    "# options.add_argument(\"headless\")\n",
    "driver = webdriver.Chrome(executable_path=r\"C:\\chromedriver\\chromedriver.exe\", options=options)\n",
    "driver.get(\"https://carf.fazenda.gov.br/sincon/public/pages/ConsultarJurisprudencia/consultarJurisprudenciaCarf.jsf\")\n",
    "driver.find_element(By.CSS_SELECTOR, \".container\").click()\n",
    "DataInicial = driver.find_element(By.ID, \"dataInicialInputDate\")\n",
    "DataInicial.clear()\n",
    "DataInicial.send_keys(mes_ano_inicial)\n",
    "DataFinal = driver.find_element(By.ID, \"dataFinalInputDate\")\n",
    "DataFinal.clear()\n",
    "DataFinal.send_keys(mes_ano_final)\n",
    "driver.find_element(By.ID, \"botaoPesquisarCarf\").click()\n",
    "WebDriverWait(driver, 30000).until(EC.presence_of_element_located((By.ID, \"j_id38\")))"
   ]
  },
  {
   "cell_type": "code",
   "execution_count": null,
   "metadata": {},
   "outputs": [],
   "source": [
    "contador = 1\n",
    "quantidade_de_acordaos = int(driver.find_element(By.ID, \"j_id38\").text)\n",
    "total_de_paginas = int(math.ceil(quantidade_de_acordaos/10))\n",
    "\n",
    "print(\"Acórdão Inicial: \" + str(contador))\n",
    "print(\"Acórdão Final: \" + str(quantidade_de_acordaos))\n",
    "print(\"Total de páginas: \" + str(total_de_paginas))"
   ]
  },
  {
   "cell_type": "code",
   "execution_count": null,
   "metadata": {},
   "outputs": [],
   "source": [
    "# Criar Dataframe no Pandas com os dados do Acórdão\n",
    "df = pd.DataFrame(columns = [\n",
    "    \"numProcesso\",\n",
    "    \"contribuinte\",\n",
    "    \"tipoRecurso\", \n",
    "    \"dataSessao\",\n",
    "    \"relator\",\n",
    "    \"numDecisao\",\n",
    "    \"textDecisao\",\n",
    "    \"ementa\"\n",
    "])"
   ]
  },
  {
   "cell_type": "code",
   "execution_count": null,
   "metadata": {},
   "outputs": [],
   "source": [
    "df"
   ]
  },
  {
   "cell_type": "code",
   "execution_count": null,
   "metadata": {
    "scrolled": true,
    "tags": [
     "outputPrepend"
    ]
   },
   "outputs": [],
   "source": [
    "from datetime import datetime\n",
    "\n",
    "inicio = datetime.now()\n",
    "hora_inicio = inicio.strftime(\"%H:%M:%S\")\n",
    "inicio_string = inicio.strftime(\"%Y%m%B\")\n",
    "extension = \".txt\"\n",
    "\n",
    "file_name =  inicio_string + extension\n",
    "file_log = open(file_name, 'w')\n",
    "file_log.write(inicio_string)\n",
    "file_log.close()\n",
    "\n",
    "file_log = open(file_name, \"a\")\n",
    "        \n",
    "for pagina in range(0, total_de_paginas):\n",
    "    if pagina == total_de_paginas-1:\n",
    "        acordaos_da_pagina = (quantidade_de_acordaos - (total_de_paginas * 10)) % 10\n",
    "        if acordaos_da_pagina == 0 : acordaos_da_pagina = 10\n",
    "    else:\n",
    "        acordaos_da_pagina = 10\n",
    "    \n",
    "    for item in range(0, acordaos_da_pagina):       \n",
    "        decorrido = datetime.now() - inicio\n",
    "                \n",
    "        # Definir nome do elemento a clicar para pra abrir o detalhamento:\n",
    "        contaLink = \"tblJurisprudencia:\" + str(int(contador)-1) + \":numDecisao\"\n",
    "        WebDriverWait(driver, 30000).until(EC.presence_of_element_located((By.ID, contaLink)))\n",
    "        \n",
    "        \n",
    "        # Clicar no número do Acórdão pra abrir o detalhamento e download do PDF:\n",
    "        driver.find_element(By.ID, contaLink).click()  \n",
    "        \n",
    "        # Capturar dados para o dataset\n",
    "        numProcesso=driver.find_element(By.ID, \"formAcordaos:numProcesso\").text\n",
    "        contribuinte=driver.find_element(By.ID, \"formAcordaos:contribuinte\").text\n",
    "        tipoRecurso=driver.find_element_by_xpath(\"//div[@id='formAcordaos:tdivTipoRecurso']/span[2]\").text\n",
    "        dataSessao=driver.find_element(By.ID, \"formAcordaos:dataSessao\").text\n",
    "        relator=driver.find_element(By.ID, \"formAcordaos:relator\").text\n",
    "        numDecisao=driver.find_element(By.ID, \"formAcordaos:numDecisao\").text\n",
    "        textDecisao=driver.find_element(By.ID, \"formAcordaos:textDecisao\").text\n",
    "        if len(driver.find_elements(By.ID, \"formAcordaos:ementa\"))>0: # Checar se há ementa\n",
    "            ementa=driver.find_element(By.ID, \"formAcordaos:ementa\").text\n",
    "        else:\n",
    "            ementa=\"\"        \n",
    "\n",
    "        # Enviar informações de Log\n",
    "        expectativa = decorrido * (int(quantidade_de_acordaos) / int(contador) )       \n",
    "        if decorrido > expectativa: \n",
    "            restante = 0 \n",
    "        else: \n",
    "            restante = expectativa - decorrido\n",
    "        log_line= str(decorrido)[:-7] + \" \" + str(expectativa)[:-7] + \" \" + str(restante)[:-7] + \" \" + str(numDecisao) + \" \" + str(numProcesso) + \" \" + contaLink + \" \" + str(pagina+1) + \"/\" + str(total_de_paginas) + \"p \" + str(contador) + \"/\" + str(quantidade_de_acordaos) + \"a\"\n",
    "        print(log_line)\n",
    "        file_log.write(log_line+\"\\n\")           \n",
    "            \n",
    "        # Inserir dados do Acórdão no Dataframe\n",
    "        df = df.append({ \n",
    "            \"numProcesso\"  : str(numProcesso), \n",
    "            \"contribuinte\" : contribuinte,\n",
    "            \"tipoRecurso\"  : tipoRecurso, \n",
    "            \"dataSessao\"   : str(dataSessao),\n",
    "            \"relator\"      : relator,\n",
    "            \"numDecisao\"   : str(numDecisao),\n",
    "            \"textDecisao\"  : textDecisao,\n",
    "            \"ementa\"       : ementa\n",
    "        }, ignore_index=True)\n",
    "      \n",
    "        #   Clicar no botão de download do PDF:\n",
    "        WebDriverWait(driver, 30000).until(EC.presence_of_element_located((By.XPATH, \"//div/a/img\")))\n",
    "        driver.find_element(By.XPATH, \"//div/a/img\").click()  \n",
    "        contador += 1\n",
    "\n",
    "        #   Clicar no botão de Voltar:  \n",
    "        driver.find_element(By.XPATH, \"//div[3]/input\").click()      \n",
    "\n",
    "    #   Clicar no botão de Próxima Página:  \n",
    "    driver.find_element(By.XPATH, \"//table[@id='dataScroller_1_table']/tbody/tr/td[5]/div\").click()           \n",
    "    \n",
    "file_log.close()\n",
    "\n",
    "# Salvar DataFrame\n",
    "nomeArquivoCSV = \"Acordaos_\" + re.sub(\"/\",\"\",mes_ano_inicial) + \"a\" + re.sub(\"/\",\"\",mes_ano_final) + \"_total_\" + str(quantidade_de_acordaos)\n",
    "df.to_csv(nomeArquivoCSV + \".csv\")\n",
    "\n",
    "nomeArquivoCSV"
   ]
  },
  {
   "cell_type": "code",
   "execution_count": null,
   "metadata": {},
   "outputs": [],
   "source": [
    "# Salvar DataFrame\n",
    "nomeArquivoCSV = \"Acordaos_\" + re.sub(\"/\",\"\",mes_ano_inicial) + \"a\" + re.sub(\"/\",\"\",mes_ano_final) + \"_total_\" + str(quantidade_de_acordaos)\n",
    "df.to_csv(nomeArquivoCSV + \".csv\")\n",
    "\n",
    "nomeArquivoCSV"
   ]
  },
  {
   "cell_type": "code",
   "execution_count": null,
   "metadata": {},
   "outputs": [],
   "source": [
    "os.getcwd()"
   ]
  }
 ],
 "metadata": {
  "kernelspec": {
   "name": "python392jvsc74a57bd03ea523bc2d4f869847872ce3cd57df8231ee0b54777ea6b7d40abc7c29d8b996",
   "display_name": "Python 3.9.2 64-bit"
  },
  "language_info": {
   "codemirror_mode": {
    "name": "ipython",
    "version": 3
   },
   "file_extension": ".py",
   "mimetype": "text/x-python",
   "name": "python",
   "nbconvert_exporter": "python",
   "pygments_lexer": "ipython3",
   "version": "3.9.2"
  }
 },
 "nbformat": 4,
 "nbformat_minor": 4
}