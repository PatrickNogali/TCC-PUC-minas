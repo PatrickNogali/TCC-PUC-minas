{
 "cells": [
  {
   "cell_type": "code",
   "execution_count": null,
   "id": "piano-command",
   "metadata": {},
   "outputs": [],
   "source": [
    "import pandas as pd\n",
    "import numpy as np\n",
    "import os\n",
    "from collections import Counter\n",
    "from pprint import pprint\n",
    "from datetime import datetime\n",
    "from IPython.display import display\n",
    "from IPython.core.interactiveshell import InteractiveShell\n",
    "InteractiveShell.ast_node_interactivity = \"all\"\n",
    "import matplotlib.pyplot as plt"
   ]
  },
  {
   "cell_type": "code",
   "execution_count": null,
   "metadata": {},
   "outputs": [],
   "source": [
    "os.chdir('d:\\\\Users\\\\Patri\\\\Documents\\\\1.TCC\\\\Notebooks\\\\WebScrapAcordaosPDF\\\\NLTK')"
   ]
  },
  {
   "cell_type": "code",
   "execution_count": null,
   "metadata": {},
   "outputs": [],
   "source": [
    "%%time\n",
    "df = pd.read_csv('Acordaos2020booleado.csv')"
   ]
  },
  {
   "cell_type": "code",
   "execution_count": null,
   "metadata": {},
   "outputs": [],
   "source": [
    "# Colher amostra para conferir a rotulação\n",
    "# from sklearn.model_selection import train_test_split\n",
    "# amostra, restante = train_test_split(df, train_size = 10)\n",
    "# amostra\n",
    "# amostra.to_csv('amostra.csv')"
   ]
  },
  {
   "cell_type": "code",
   "execution_count": null,
   "id": "round-throw",
   "metadata": {},
   "outputs": [],
   "source": [
    "df.head()"
   ]
  },
  {
   "cell_type": "code",
   "execution_count": null,
   "metadata": {},
   "outputs": [],
   "source": [
    "df.isnull().sum()"
   ]
  },
  {
   "cell_type": "code",
   "execution_count": null,
   "metadata": {},
   "outputs": [],
   "source": [
    "# Criar coluna que indica se alguma seção do Acórdão além do Relatório teve Súmula aplicada\n",
    "# df['S002TX'] = df[['S002VO', 'S002EM', 'S002AC', 'S002VV', 'S002DE']].max(axis=1)\n",
    "\n",
    "cols=['VO', 'EM', 'AC', 'VV', 'DE']\n",
    "\n",
    "for sum in range (1,162):\n",
    "    lista_cols = []\n",
    "    TX_col = 'S'+str(sum).zfill(3)+'TX'                      # 'S002TX'\n",
    "    for AA in cols:\n",
    "        S999AA = 'S'+str(sum).zfill(3)+AA\n",
    "        lista_cols.append(S999AA)    # ['S002VO', 'S002EM', 'S002AC', 'S002VV', 'S002DE']\n",
    "    df[TX_col] = df[lista_cols].max(axis=1)"
   ]
  },
  {
   "cell_type": "code",
   "execution_count": null,
   "metadata": {
    "tags": []
   },
   "outputs": [],
   "source": [
    "# Totaliza Súmula por seção\n",
    "z_colunas=['VO', 'EM', 'RE', 'AC', 'VV', 'DE', 'TX']\n",
    "\n",
    "dfT = pd.DataFrame(columns = z_colunas)\n",
    "\n",
    "for sum in range (1,162):\n",
    "    sumXXX = str(sum).zfill(3)\n",
    "    linha = [ sumXXX ]\n",
    "    for count, col in enumerate(z_colunas):    \n",
    "        qtsum = int(df['S' + sumXXX + col].sum())\n",
    "        linha.append(qtsum)\n",
    "    # linha\n",
    "    dflinha = pd.DataFrame([linha], columns = ['Sumula'] + z_colunas)\n",
    "    dfT = dfT.append(dflinha)\n",
    "    dfT = dfT.reset_index(drop = True)\n",
    "dfT\n"
   ]
  },
  {
   "cell_type": "code",
   "execution_count": null,
   "metadata": {},
   "outputs": [],
   "source": [
    "# Comparar uso da Súmula no Voto com uso da Súmula em todas as seções exceto o Relatório\n",
    "cols=['VO', 'EM', 'AC', 'VV', 'DE']\n",
    "for sum in range (1,162):\n",
    "    lista_cols = []\n",
    "    TX_col = 'S'+str(sum).zfill(3)+'TX'                      # 'S002TX'\n",
    "    for AA in cols:\n",
    "        S999AA = 'S'+str(sum).zfill(3)+AA\n",
    "        lista_cols.append(S999AA)    # ['S002VO', 'S002EM', 'S002AC', 'S002VV', 'S002DE']\n",
    "    "
   ]
  },
  {
   "cell_type": "code",
   "execution_count": null,
   "metadata": {},
   "outputs": [],
   "source": [
    "dfT['VO_TX'] = (dfT['TX']-dfT['VO'])\n",
    "dfT"
   ]
  },
  {
   "cell_type": "code",
   "execution_count": null,
   "metadata": {},
   "outputs": [],
   "source": [
    "dfT[['VO', 'EM', 'RE', 'AC', 'VV', 'DE', 'TX', 'VO_TX']].sum()"
   ]
  },
  {
   "cell_type": "code",
   "execution_count": null,
   "metadata": {},
   "outputs": [],
   "source": [
    "df = df.fillna('')\n",
    "df = df.replace(np.nan,'')"
   ]
  },
  {
   "cell_type": "code",
   "execution_count": null,
   "metadata": {},
   "outputs": [],
   "source": [
    "df['s_Relatorio']"
   ]
  },
  {
   "cell_type": "code",
   "execution_count": null,
   "metadata": {
    "tags": []
   },
   "outputs": [],
   "source": [
    "# Totalizar as súmulas aplicadas por coluna\n",
    "colunas=['Voto', 'Ementa', 'Relatorio', 'Acordao', 'VotoVencedor', 'DeclaracaoVoto']\n",
    "\n",
    "sum_total = []\n",
    "for count, coluna in enumerate(colunas): \n",
    "    sum_coluna = []\n",
    "    for index, values in df['s_'+coluna].items():\n",
    "        if values: \n",
    "            lista = values.strip('][').split(', ')\n",
    "            for sumula in lista:\n",
    "                 if len(sumula):\n",
    "                    sum_coluna.append(int(sumula))\n",
    "                    sum_total.append(int(sumula))\n",
    "        sum_coluna = sorted(list(set(sum_coluna)))    \n",
    "    print (\"Coluna:\", coluna, len(sum_coluna), sum_coluna)\n",
    "sum_total = sorted(list(set(sum_total)))\n",
    "print (\"Total:\", len(sum_total), sum_total)\n"
   ]
  },
  {
   "cell_type": "code",
   "execution_count": null,
   "metadata": {},
   "outputs": [],
   "source": [
    "dfT = dfT.set_index('Sumula')"
   ]
  },
  {
   "cell_type": "code",
   "execution_count": null,
   "metadata": {},
   "outputs": [],
   "source": [
    "dfT['VO_percent'] = 100 * dfT['VO']/dfT['VO'].sum()"
   ]
  },
  {
   "cell_type": "code",
   "execution_count": null,
   "metadata": {},
   "outputs": [],
   "source": [
    "dfT[['VO', 'VO_percent']].sort_values('VO').query(\"Sumula == ['137', '128', '017', '157', '108', '001', '049', '002']\")"
   ]
  },
  {
   "cell_type": "code",
   "execution_count": null,
   "metadata": {},
   "outputs": [],
   "source": [
    "dfT[['VO', 'VO_percent']].sort_values('VO')"
   ]
  },
  {
   "cell_type": "code",
   "execution_count": null,
   "metadata": {},
   "outputs": [],
   "source": [
    "pd.to_numeric(dfT['VO'], downcast='float').describe()"
   ]
  },
  {
   "cell_type": "code",
   "execution_count": null,
   "metadata": {},
   "outputs": [],
   "source": [
    "dfT['VO'].sort_values().plot(kind='area')"
   ]
  },
  {
   "cell_type": "code",
   "execution_count": null,
   "metadata": {},
   "outputs": [],
   "source": [
    "# Remover as colunas de textos que não serão utilizadas para a predição\n",
    "colunas = ['Ementa', 'Acordao', 'Voto', 'VotoVencedor', 'DeclaracaoVoto']\n",
    "s_colunas = list('s_' + coluna for coluna in colunas)\n",
    "remover_colunas = s_colunas\n",
    "remover_colunas\n",
    "\n",
    "for coluna in remover_colunas:\n",
    "    df = df.drop(columns=coluna)\n",
    "\n",
    "df"
   ]
  },
  {
   "cell_type": "code",
   "execution_count": null,
   "metadata": {},
   "outputs": [],
   "source": [
    "%%time\n",
    "df.to_csv('Acordaos2020tx.csv', index = False)"
   ]
  },
  {
   "cell_type": "code",
   "execution_count": null,
   "metadata": {},
   "outputs": [],
   "source": []
  }
 ],
 "metadata": {
  "kernelspec": {
   "name": "python392jvsc74a57bd03ea523bc2d4f869847872ce3cd57df8231ee0b54777ea6b7d40abc7c29d8b996",
   "display_name": "Python 3.9.2 64-bit"
  },
  "language_info": {
   "codemirror_mode": {
    "name": "ipython",
    "version": 3
   },
   "file_extension": ".py",
   "mimetype": "text/x-python",
   "name": "python",
   "nbconvert_exporter": "python",
   "pygments_lexer": "ipython3",
   "version": "3.9.2"
  }
 },
 "nbformat": 4,
 "nbformat_minor": 5
}