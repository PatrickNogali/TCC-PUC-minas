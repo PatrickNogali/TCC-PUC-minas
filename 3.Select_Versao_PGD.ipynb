{
 "cells": [
  {
   "cell_type": "code",
   "execution_count": null,
   "id": "piano-command",
   "metadata": {},
   "outputs": [],
   "source": [
    "import xml.etree.ElementTree as et\n",
    "import pandas as pd\n",
    "import numpy as np\n",
    "import os\n",
    "import re\n",
    "import pprint"
   ]
  },
  {
   "cell_type": "code",
   "execution_count": null,
   "metadata": {},
   "outputs": [],
   "source": [
    "# os.chdir('d:\\\\Users\\\\Patri\\\\Documents\\\\1.TCC\\\\Notebooks\\\\WebScrapAcordaosPDF')"
   ]
  },
  {
   "cell_type": "code",
   "execution_count": null,
   "metadata": {},
   "outputs": [],
   "source": [
    "pasta = os.listdir()\n",
    "for count, arquivo in enumerate(pasta) : print (count, arquivo)"
   ]
  },
  {
   "cell_type": "code",
   "execution_count": null,
   "metadata": {},
   "outputs": [],
   "source": [
    "# pasta_qual = input ('Qual o número da pasta que deseja usar: ')\n",
    "# os.chdir(pasta[int(pasta_qual)]+\"\\\\XML\")\n",
    "# os.getcwd()"
   ]
  },
  {
   "cell_type": "code",
   "execution_count": null,
   "metadata": {},
   "outputs": [],
   "source": [
    "os.listdir()"
   ]
  },
  {
   "cell_type": "code",
   "execution_count": null,
   "id": "upper-diamond",
   "metadata": {
    "scrolled": true,
    "tags": []
   },
   "outputs": [],
   "source": [
    "# Separar arquivos XML por diretório: Resolução x Acórdão/versão PGD\n",
    "\n",
    "from datetime import datetime\n",
    "\n",
    "inicio = datetime.now()\n",
    "\n",
    "files = [f for f in os.listdir('.') if os.path.isfile(f)]\n",
    "for count,f in enumerate(files):\n",
    "    xml_data = open(f, 'r').read()  # Read file\n",
    "    root = et.XML(xml_data)  # Parse XML\n",
    "    \n",
    "    # Move resolução para diretório Resolucao\n",
    "    if not 'Resolucao' in os.listdir(): os.mkdir(\"Resolucao\")\n",
    "    if root.find('TipoDocumento').text == \"Resolução\": \n",
    "        os.rename(os.getcwd()+\"\\\\\"+f,os.getcwd()+\"\\\\Resolucao\\\\\"+f)\n",
    "    else:\n",
    "        # Move acórdão para diretório Acordao\\versãoPGD\n",
    "        if not 'Acordao' in os.listdir(): os.mkdir(\"Acordao\")\n",
    "        if not root.find('VersaoPGD').text in os.listdir(\"Acordao\"): \n",
    "            os.chdir('Acordao')\n",
    "            os.mkdir(str(root.find('VersaoPGD').text))\n",
    "            os.chdir('..')\n",
    "        versao_pgd = root.find('VersaoPGD').text\n",
    "        os.rename(os.getcwd()+\"\\\\\"+f,os.getcwd()+\"\\\\Acordao\\\\\"+versao_pgd+\"\\\\\"+f)\n",
    "\n",
    "    decorrido = datetime.now() - inicio\n",
    "    expectativa = decorrido / (count+1) * len(files)\n",
    "    if decorrido > expectativa: \n",
    "        restante = 0 \n",
    "    else: \n",
    "        restante = expectativa - decorrido\n",
    "    \n",
    "    print (count, str(decorrido)[:-7], str(expectativa)[:-7], str(restante)[:-7], f, root.find('TipoDocumento').text, root.find('VersaoPGD').text)\n"
   ]
  },
  {
   "cell_type": "code",
   "execution_count": null,
   "metadata": {},
   "outputs": [],
   "source": [
    "os.chdir('Acordao\\\\4.0.0')\n",
    "os.getcwd()"
   ]
  }
 ],
 "metadata": {
  "kernelspec": {
   "name": "python392jvsc74a57bd03ea523bc2d4f869847872ce3cd57df8231ee0b54777ea6b7d40abc7c29d8b996",
   "display_name": "Python 3.9.2 64-bit"
  },
  "language_info": {
   "codemirror_mode": {
    "name": "ipython",
    "version": 3
   },
   "file_extension": ".py",
   "mimetype": "text/x-python",
   "name": "python",
   "nbconvert_exporter": "python",
   "pygments_lexer": "ipython3",
   "version": "3.9.2"
  }
 },
 "nbformat": 4,
 "nbformat_minor": 5
}